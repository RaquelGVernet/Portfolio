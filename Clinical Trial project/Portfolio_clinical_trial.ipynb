{
 "cells": [
  {
   "cell_type": "markdown",
   "id": "83897126",
   "metadata": {},
   "source": [
    "# 🧪 Clinical trial project (1) - Raquel G Vernet "
   ]
  },
  {
   "cell_type": "markdown",
   "id": "28bc9c32",
   "metadata": {},
   "source": [
    "Hi! 👋 This notebook is part of my personal data science portfolio.\n",
    "\n",
    "The goal of this project is to simulate a clinical study and then analyze the data to determine whether the treatment was effective. \n",
    "\n",
    "**❗ Important!** *This is a fictional dataset created for portfolio purposes. The narrative serves only as a creative introduction; the subsequent analysis follows a scientific approach*\n",
    "\n",
    "In this notebook, you will find:\n",
    "\n",
    "0. **Fictional background** – Context and rationale for the study.\n",
    "1. **Experimental Design** – Description of the double-blind Randomized Controlled Trial (RCT), variables collected, and statistical power calculation (considering 175 patients per group and α = 0.05).\n",
    "2. **Database Simulation** – Generation of the dataset and visualization with a final CONSORT diagram.\n",
    "3. **Exploratory Data Analysis (EDA)** – Summary tables, histograms, boxplots, and stacked barplots to explore the data.\n",
    "4. **Treatment Efficacy and Outcome Analysis** – Kaplan–Meier curves, Log-rank tests, ANOVA with post-hoc tests, and Chi-square tests to assess statistical significance and support conclusions.\n",
    "5. **Conclusions**"
   ]
  },
  {
   "cell_type": "markdown",
   "id": "5972360b",
   "metadata": {},
   "source": [
    "### 0. Fictional background\n",
    "\n",
    "**Year 8 P.I. (Post Impact).** A strange disease has been detected in the areas surrounding the crater, and panic is starting to spread. The symptoms are aggressive and appear suddenly, often leading to death. Time is of the essence, and while efforts focus on developing a vaccine, we are tasked with finding treatments that could save patients’ lives.\n",
    "\n",
    "Upon arriving at the centers in the affected zone, we receive the following information:\n",
    "\n",
    "- The illness is caused by a virus (ALIEN-1), previously unknown. The mode of transmission is unclear, but it does not appear to be airborne.\n",
    "\n",
    "- A blood sample can be taken to detect the virus through PCR testing, although generally occurs after the first symptoms. Inflammatory markers are also altered and may serve as prognostic indicators.\n",
    "\n",
    "- Symptoms last between 1 and 6 days before reaching the final stage. They include headaches, hallucinations, hydrophobia, hysteria, high fever, and increased aggression. After this period, a large percentage of patients fall into a coma and die; the rest may recover, though with varying degrees of long-term sequelae. \n",
    "\n",
    "- Interestingly, a small percentage of patients (about 5–10%) experience unexpectedly beneficial response to the infection, showing a better clinical status than at baseline.\n",
    "\n",
    "After reviewing all this information, we decided to try a new antiviral, ANT-18, administered in the early and late stages of the disease to assess its effectiveness in improving survival and reducing long-term complications. "
   ]
  },
  {
   "cell_type": "markdown",
   "id": "ce33d526",
   "metadata": {},
   "source": [
    "## 1. Experimental design\n",
    "\n",
    "We will conduct a **double-blind Randomized Controlled Trial (RCT)** including 700 patients (originally healthy, aged 20–60). Participants will be **randomly assigned and stratified by age and sex** to ensure balanced distribution across the following groups:\n",
    "\n",
    "- Early Treat (EarlyT): ANT-18 administered on the first day after symptom onset.\n",
    "- Early Placebo (EarlyP): Placebo administered on the first day after symptom onset.\n",
    "- Late Treat (LateT): ANT-18 administered on the fourth day after symptom onset.\n",
    "- Late Placebo (LateP): Placebo administered on the fourth day after symptom onset.\n",
    "\n",
    "| Variable                  | Type        | Units            | Notes                                                                 |\n",
    "|---------------------------|-------------|------------------|----------------------------------------------------------------------|\n",
    "| Age                       | Continuous  | Years            | Baseline demographic                                                 |\n",
    "| Sex                       | Categorical | Male/Female      | Baseline demographic                                                 |\n",
    "| ALIEN-1 PCR               | Binary      | Positive/Negative| Pre-treatment diagnostic                                             |\n",
    "| Inflammatory markers pre  | Continuous  | mg/L             | Pre-treatment measure                                                |\n",
    "| Time to recovery          | Continuous  | Days             | From symptom onset                                                   |\n",
    "| Time to death             | Continuous  | Days             | From symptom onset                                                   |\n",
    "| Week 8 outcome            | Binary      | 0/1              | 0 = death, 1 = survived                                              |\n",
    "| Week 8 clinical score     | Ordinal     | 0–4              | 0 = better than before, 1 = no symptoms, 2–4 = increasing complications |\n",
    "| Inflammatory markers post | Continuous  | mg/L             | Post-treatment measure (8 weeks)                                     |\n",
    "| Treatment group           | Categorical | EarlyT / EarlyP / LateT / LateP | Assigned treatment                                  |\n",
    "\n",
    "\n",
    "**Clinical endpoints:**\n",
    "\n",
    "| Endpoint type | Variable            | Reason                                      |\n",
    "|---------------|---------------------|---------------------------------------------|\n",
    "| Primary       | Survival at Week 8  | Hard outcome, directly measures efficacy    |\n",
    "| Secondary | Time to death | Continuous variable for survival analysis |\n",
    "| Secondary     | Time to recovery    | Captures speed of clinical improvement      |\n",
    "| Secondary     | Clinical score      | Evaluates long-term complications           |"
   ]
  },
  {
   "cell_type": "markdown",
   "id": "96400413",
   "metadata": {},
   "source": [
    "Now, we calculate the statistical power (**the probability of detecting a true effect**) with 175 patients per group (aprox). As a minimum, **we aim to detect a 15 percentage point difference** in the primary endpoint between the placebo and the treatment groups.\n",
    "\n",
    "**❗ Important:** In this simplified scenario, we are not accounting for potential dropouts during the trial. In real-world studies, we would need to anticipate and adjust by increasing the sample size."
   ]
  },
  {
   "cell_type": "code",
   "execution_count": 2,
   "id": "df82e940",
   "metadata": {},
   "outputs": [
    {
     "name": "stdout",
     "output_type": "stream",
     "text": [
      "Power: 0.8\n"
     ]
    }
   ],
   "source": [
    "\n",
    "\n",
    "# Parameters\n",
    "alpha = 0.05 #probability of FALSE POSITIVE\n",
    "N_group =  175 #numer samples per group\n",
    "p1 = 0.3  #survival in the placebo \n",
    "p2= 0.45 #survival that we would like to detect (as minimum) in the treatment group\n",
    "\n",
    "import numpy as np\n",
    "from statsmodels.stats.proportion import proportion_effectsize\n",
    "from statsmodels.stats.power import NormalIndPower\n",
    "\n",
    "\n",
    "#First we need to calculate the proportion effect with p1 and p2\n",
    "es = proportion_effectsize(p1, p2)\n",
    "#Determine analysis as Statistical Power calculations for z-test (optimal for <30 samples) for two independent samples.\n",
    "analysis = NormalIndPower()\n",
    "\n",
    "#Now lets calculate the number of observations of sample (nobs1)\n",
    "n_check = analysis.solve_power(effect_size=es, nobs1=N_group, alpha=alpha)\n",
    "print(f\"Power: {n_check:.1f}\")"
   ]
  },
  {
   "cell_type": "markdown",
   "id": "f0617f2b",
   "metadata": {},
   "source": [
    "We obtained a power of 0.8, which is within the typical range for clinical trials (usually 0.8–0.9). "
   ]
  },
  {
   "cell_type": "markdown",
   "id": "ce9f457c",
   "metadata": {},
   "source": [
    "## 2. Database simulation\n",
    "\n",
    "For the purpose of this portfolio, we will simulate the dataset. I will not go into the details of most of the selected parameters here, as we will explore them in depth in the EDA section."
   ]
  },
  {
   "cell_type": "code",
   "execution_count": 3,
   "id": "378662dd",
   "metadata": {},
   "outputs": [
    {
     "data": {
      "text/plain": [
       "EarlyT    177\n",
       "EarlyP    175\n",
       "LateP     174\n",
       "LateT     174\n",
       "Name: Treatment group, dtype: int64"
      ]
     },
     "execution_count": 3,
     "metadata": {},
     "output_type": "execute_result"
    }
   ],
   "source": [
    "import pandas as pd\n",
    "import numpy as np\n",
    "\n",
    "np.random.seed(42)\n",
    "\n",
    "# Base data\n",
    "n_total = 700\n",
    "groups = ['EarlyT', 'EarlyP', 'LateT', 'LateP']\n",
    "ages = np.random.randint(20, 61, size=n_total)\n",
    "sex = np.random.choice(['Male', 'Female'], size=n_total)\n",
    "age_group = pd.cut(ages, bins=[19,39,60], labels=['20-39','40-60'])\n",
    "\n",
    "df = pd.DataFrame({'Age': ages, 'Sex': sex, 'Age_group': age_group})\n",
    "\n",
    "#Stratification\n",
    "treatment_group = np.empty(n_total, dtype=object)\n",
    "\n",
    "for (a,s), subdf in df.groupby(['Age_group','Sex']):\n",
    "    idx = subdf.index.to_numpy()\n",
    "    np.random.shuffle(idx)\n",
    "    \n",
    "    n = len(idx)\n",
    "    # Splitting (most equitative possible)\n",
    "    reps = n // 4\n",
    "    remainder = n % 4\n",
    "    assign = []\n",
    "    for g in groups:\n",
    "        assign.extend([g]*reps)\n",
    "    # Others\n",
    "    assign.extend(groups[:remainder])\n",
    "    \n",
    "    # To the dataframe\n",
    "    treatment_group[idx] = assign\n",
    "\n",
    "df['Treatment group'] = treatment_group\n",
    "df['Treatment group'].value_counts()"
   ]
  },
  {
   "cell_type": "code",
   "execution_count": 4,
   "id": "baa2e14f",
   "metadata": {},
   "outputs": [
    {
     "data": {
      "text/html": [
       "<div>\n",
       "<style scoped>\n",
       "    .dataframe tbody tr th:only-of-type {\n",
       "        vertical-align: middle;\n",
       "    }\n",
       "\n",
       "    .dataframe tbody tr th {\n",
       "        vertical-align: top;\n",
       "    }\n",
       "\n",
       "    .dataframe thead th {\n",
       "        text-align: right;\n",
       "    }\n",
       "</style>\n",
       "<table border=\"1\" class=\"dataframe\">\n",
       "  <thead>\n",
       "    <tr style=\"text-align: right;\">\n",
       "      <th></th>\n",
       "      <th>Age</th>\n",
       "      <th>Sex</th>\n",
       "      <th>Age_group</th>\n",
       "      <th>Treatment group</th>\n",
       "      <th>ALIEN-1 PCR</th>\n",
       "      <th>Inflammatory markers pre</th>\n",
       "    </tr>\n",
       "  </thead>\n",
       "  <tbody>\n",
       "    <tr>\n",
       "      <th>0</th>\n",
       "      <td>58</td>\n",
       "      <td>Male</td>\n",
       "      <td>40-60</td>\n",
       "      <td>EarlyT</td>\n",
       "      <td>Positive</td>\n",
       "      <td>11.490142</td>\n",
       "    </tr>\n",
       "    <tr>\n",
       "      <th>1</th>\n",
       "      <td>48</td>\n",
       "      <td>Male</td>\n",
       "      <td>40-60</td>\n",
       "      <td>LateP</td>\n",
       "      <td>Positive</td>\n",
       "      <td>9.585207</td>\n",
       "    </tr>\n",
       "    <tr>\n",
       "      <th>2</th>\n",
       "      <td>34</td>\n",
       "      <td>Female</td>\n",
       "      <td>20-39</td>\n",
       "      <td>EarlyP</td>\n",
       "      <td>Positive</td>\n",
       "      <td>11.943066</td>\n",
       "    </tr>\n",
       "    <tr>\n",
       "      <th>3</th>\n",
       "      <td>27</td>\n",
       "      <td>Female</td>\n",
       "      <td>20-39</td>\n",
       "      <td>LateT</td>\n",
       "      <td>Positive</td>\n",
       "      <td>14.569090</td>\n",
       "    </tr>\n",
       "    <tr>\n",
       "      <th>4</th>\n",
       "      <td>40</td>\n",
       "      <td>Female</td>\n",
       "      <td>40-60</td>\n",
       "      <td>EarlyP</td>\n",
       "      <td>Positive</td>\n",
       "      <td>9.297540</td>\n",
       "    </tr>\n",
       "  </tbody>\n",
       "</table>\n",
       "</div>"
      ],
      "text/plain": [
       "   Age     Sex Age_group Treatment group ALIEN-1 PCR  Inflammatory markers pre\n",
       "0   58    Male     40-60          EarlyT    Positive                 11.490142\n",
       "1   48    Male     40-60           LateP    Positive                  9.585207\n",
       "2   34  Female     20-39          EarlyP    Positive                 11.943066\n",
       "3   27  Female     20-39           LateT    Positive                 14.569090\n",
       "4   40  Female     40-60          EarlyP    Positive                  9.297540"
      ]
     },
     "execution_count": 4,
     "metadata": {},
     "output_type": "execute_result"
    }
   ],
   "source": [
    "# ALIEN-1 PCR: all pos\n",
    "df['ALIEN-1 PCR'] = 'Positive'\n",
    "\n",
    "# Inflammatory markers: normal mean 5 mg/L, desvest 3 mg/L, no neg\n",
    "np.random.seed(42)\n",
    "df['Inflammatory markers pre'] = np.clip(np.random.normal(loc=10, scale=3, size=n_total), 0, None)\n",
    "\n",
    "df.head()"
   ]
  },
  {
   "cell_type": "code",
   "execution_count": 5,
   "id": "5d3a2dbb",
   "metadata": {},
   "outputs": [
    {
     "data": {
      "text/plain": [
       "Treatment group\n",
       "EarlyP    0.342857\n",
       "EarlyT    0.700565\n",
       "LateP     0.235632\n",
       "LateT     0.120690\n",
       "Name: Week 8 outcome, dtype: float64"
      ]
     },
     "execution_count": 5,
     "metadata": {},
     "output_type": "execute_result"
    }
   ],
   "source": [
    "#Survival probabilities\n",
    "survival_probs = {'EarlyT': 0.7, 'EarlyP': 0.3, 'LateT': 0.1, 'LateP': 0.3}\n",
    "\n",
    "#Simulation\n",
    "np.random.seed(42)\n",
    "week8_outcome = [np.random.binomial(1, survival_probs[g]) for g in df['Treatment group']]\n",
    "\n",
    "df['Week 8 outcome'] = week8_outcome\n",
    "\n",
    "#Check\n",
    "df.groupby('Treatment group')['Week 8 outcome'].mean()"
   ]
  },
  {
   "cell_type": "code",
   "execution_count": 6,
   "id": "76dbb532",
   "metadata": {},
   "outputs": [],
   "source": [
    "std_days = 5  #standard deviation for the data\n",
    "\n",
    "time_to_recovery = []\n",
    "\n",
    "np.random.seed(42)\n",
    "\n",
    "for g, survived in zip(df['Treatment group'], df['Week 8 outcome']):\n",
    "    if survived:\n",
    "        if g == 'EarlyP':\n",
    "            mean_days = 21\n",
    "        elif g == 'LateP':\n",
    "            mean_days = 21\n",
    "        elif g == 'EarlyT':\n",
    "            mean_days = 17\n",
    "        elif g == 'LateT':\n",
    "            mean_days = 28\n",
    "        days = np.random.normal(loc=mean_days, scale=std_days)\n",
    "        time_to_recovery.append(np.clip(days, 3, None))  #min 3 days\n",
    "    else:\n",
    "        time_to_recovery.append(np.nan)  #NA = not recovered\n",
    "\n",
    "df['Time to recovery'] = time_to_recovery"
   ]
  },
  {
   "cell_type": "code",
   "execution_count": 7,
   "id": "01dd8c34",
   "metadata": {},
   "outputs": [],
   "source": [
    "# Max follow-up in days\n",
    "max_followup = 8*7  # 8 weeks = 56 days\n",
    "\n",
    "# Mean times to death (for patients who die)\n",
    "mean_death = {\n",
    "    \"EarlyT\": 30,   \n",
    "    \"EarlyP\": 20,   \n",
    "    \"LateT\": 10,    \n",
    "    \"LateP\": 20     \n",
    "}\n",
    "std_death = 10  # standard deviation for all groups"
   ]
  },
  {
   "cell_type": "code",
   "execution_count": 8,
   "id": "b72e37f2",
   "metadata": {},
   "outputs": [],
   "source": [
    "time_to_death = []\n",
    "\n",
    "np.random.seed(42)\n",
    "\n",
    "for i, row in df.iterrows():\n",
    "    if row['Week 8 outcome'] == 1:\n",
    "        # Survived → censored at max follow-up\n",
    "        time_to_death.append(max_followup)\n",
    "    else:\n",
    "        # Died → sample time to death from normal distribution\n",
    "        t = np.random.normal(loc=mean_death[row['Treatment group']], scale=std_death)\n",
    "        # Ensure no negative times\n",
    "        t = max(1, t)\n",
    "        time_to_death.append(t)\n",
    "\n",
    "# Add column to dataframe\n",
    "df['Time to death'] = time_to_death"
   ]
  },
  {
   "cell_type": "code",
   "execution_count": 9,
   "id": "b0fad746",
   "metadata": {},
   "outputs": [],
   "source": [
    "clinical_score = []\n",
    "np.random.seed(42)\n",
    "for g, survived in zip(df['Treatment group'], df['Week 8 outcome']):\n",
    "    if survived:\n",
    "        r = np.random.rand()\n",
    "        if g in ['EarlyP', 'LateP']:\n",
    "            # Placebos: 0 = 18%, others 1-4 uniform\n",
    "            if r < 0.18:\n",
    "                clinical_score.append(0)\n",
    "            else:\n",
    "                clinical_score.append(np.random.choice([1,2,3,4]))\n",
    "        elif g == 'EarlyT':\n",
    "            # EarlyT: 0 = 0%, 1-2 = 80%, 3-4 = 20%\n",
    "            if r < 0.8:\n",
    "                clinical_score.append(np.random.choice([1,2]))\n",
    "            else:\n",
    "                clinical_score.append(np.random.choice([3,4]))\n",
    "        elif g == 'LateT':\n",
    "            # LateT: 0 = 10%, 1-2 = 70%, 3-4 = 20%\n",
    "            if r < 0.10:\n",
    "                clinical_score.append(0)\n",
    "            elif r < 0.80:\n",
    "                clinical_score.append(np.random.choice([1,2]))\n",
    "            else:\n",
    "                clinical_score.append(np.random.choice([3,4]))\n",
    "    else:\n",
    "        clinical_score.append(np.nan)  # pacientes muertos\n",
    "\n",
    "df['Week 8 clinical score'] = clinical_score"
   ]
  },
  {
   "cell_type": "code",
   "execution_count": 10,
   "id": "e7a80443",
   "metadata": {},
   "outputs": [],
   "source": [
    "post_inflamm = []\n",
    "\n",
    "for g, survived, score in zip(df['Treatment group'], df['Week 8 outcome'], df['Week 8 clinical score']):\n",
    "    if survived:\n",
    "        if score == 0:  #better than before\n",
    "            val = np.random.normal(2, 0.8)\n",
    "        elif score in [1, 2]:  #low synthoms\n",
    "            if g == 'EarlyT':\n",
    "                val = np.random.normal(3, 1)\n",
    "            else:\n",
    "                val = np.random.normal(5, 1.5)\n",
    "        elif score in [3, 4]:  #complicated synthoms\n",
    "            if g == 'EarlyT':\n",
    "                val = np.random.normal(5, 1.5)\n",
    "            else:\n",
    "                val = np.random.normal(7, 2)\n",
    "        else:\n",
    "            val = np.nan\n",
    "    else:\n",
    "        val = np.nan  # muertos\n",
    "\n",
    "    post_inflamm.append(max(val, 0))  #minumum 0\n",
    "\n",
    "df['Inflammatory markers post'] = post_inflamm"
   ]
  },
  {
   "cell_type": "markdown",
   "id": "98be4d5f",
   "metadata": {},
   "source": [
    "Final dataset and plot of the final CONSORT flow diagram:"
   ]
  },
  {
   "cell_type": "code",
   "execution_count": 11,
   "id": "b4a976a2",
   "metadata": {},
   "outputs": [
    {
     "data": {
      "text/html": [
       "<div>\n",
       "<style scoped>\n",
       "    .dataframe tbody tr th:only-of-type {\n",
       "        vertical-align: middle;\n",
       "    }\n",
       "\n",
       "    .dataframe tbody tr th {\n",
       "        vertical-align: top;\n",
       "    }\n",
       "\n",
       "    .dataframe thead th {\n",
       "        text-align: right;\n",
       "    }\n",
       "</style>\n",
       "<table border=\"1\" class=\"dataframe\">\n",
       "  <thead>\n",
       "    <tr style=\"text-align: right;\">\n",
       "      <th></th>\n",
       "      <th>Age</th>\n",
       "      <th>Sex</th>\n",
       "      <th>Age_group</th>\n",
       "      <th>Treatment group</th>\n",
       "      <th>ALIEN-1 PCR</th>\n",
       "      <th>Inflammatory markers pre</th>\n",
       "      <th>Week 8 outcome</th>\n",
       "      <th>Time to recovery</th>\n",
       "      <th>Time to death</th>\n",
       "      <th>Week 8 clinical score</th>\n",
       "      <th>Inflammatory markers post</th>\n",
       "    </tr>\n",
       "  </thead>\n",
       "  <tbody>\n",
       "    <tr>\n",
       "      <th>0</th>\n",
       "      <td>58</td>\n",
       "      <td>Male</td>\n",
       "      <td>40-60</td>\n",
       "      <td>EarlyT</td>\n",
       "      <td>Positive</td>\n",
       "      <td>11.490142</td>\n",
       "      <td>1</td>\n",
       "      <td>19.483571</td>\n",
       "      <td>56.000000</td>\n",
       "      <td>1.0</td>\n",
       "      <td>3.749106</td>\n",
       "    </tr>\n",
       "    <tr>\n",
       "      <th>1</th>\n",
       "      <td>48</td>\n",
       "      <td>Male</td>\n",
       "      <td>40-60</td>\n",
       "      <td>LateP</td>\n",
       "      <td>Positive</td>\n",
       "      <td>9.585207</td>\n",
       "      <td>1</td>\n",
       "      <td>20.308678</td>\n",
       "      <td>56.000000</td>\n",
       "      <td>4.0</td>\n",
       "      <td>10.617914</td>\n",
       "    </tr>\n",
       "    <tr>\n",
       "      <th>2</th>\n",
       "      <td>34</td>\n",
       "      <td>Female</td>\n",
       "      <td>20-39</td>\n",
       "      <td>EarlyP</td>\n",
       "      <td>Positive</td>\n",
       "      <td>11.943066</td>\n",
       "      <td>1</td>\n",
       "      <td>24.238443</td>\n",
       "      <td>56.000000</td>\n",
       "      <td>3.0</td>\n",
       "      <td>7.453969</td>\n",
       "    </tr>\n",
       "    <tr>\n",
       "      <th>3</th>\n",
       "      <td>27</td>\n",
       "      <td>Female</td>\n",
       "      <td>20-39</td>\n",
       "      <td>LateT</td>\n",
       "      <td>Positive</td>\n",
       "      <td>14.569090</td>\n",
       "      <td>0</td>\n",
       "      <td>NaN</td>\n",
       "      <td>14.967142</td>\n",
       "      <td>NaN</td>\n",
       "      <td>NaN</td>\n",
       "    </tr>\n",
       "    <tr>\n",
       "      <th>4</th>\n",
       "      <td>40</td>\n",
       "      <td>Female</td>\n",
       "      <td>40-60</td>\n",
       "      <td>EarlyP</td>\n",
       "      <td>Positive</td>\n",
       "      <td>9.297540</td>\n",
       "      <td>0</td>\n",
       "      <td>NaN</td>\n",
       "      <td>18.617357</td>\n",
       "      <td>NaN</td>\n",
       "      <td>NaN</td>\n",
       "    </tr>\n",
       "  </tbody>\n",
       "</table>\n",
       "</div>"
      ],
      "text/plain": [
       "   Age     Sex Age_group Treatment group ALIEN-1 PCR  \\\n",
       "0   58    Male     40-60          EarlyT    Positive   \n",
       "1   48    Male     40-60           LateP    Positive   \n",
       "2   34  Female     20-39          EarlyP    Positive   \n",
       "3   27  Female     20-39           LateT    Positive   \n",
       "4   40  Female     40-60          EarlyP    Positive   \n",
       "\n",
       "   Inflammatory markers pre  Week 8 outcome  Time to recovery  Time to death  \\\n",
       "0                 11.490142               1         19.483571      56.000000   \n",
       "1                  9.585207               1         20.308678      56.000000   \n",
       "2                 11.943066               1         24.238443      56.000000   \n",
       "3                 14.569090               0               NaN      14.967142   \n",
       "4                  9.297540               0               NaN      18.617357   \n",
       "\n",
       "   Week 8 clinical score  Inflammatory markers post  \n",
       "0                    1.0                   3.749106  \n",
       "1                    4.0                  10.617914  \n",
       "2                    3.0                   7.453969  \n",
       "3                    NaN                        NaN  \n",
       "4                    NaN                        NaN  "
      ]
     },
     "execution_count": 11,
     "metadata": {},
     "output_type": "execute_result"
    }
   ],
   "source": [
    "df.head()"
   ]
  },
  {
   "cell_type": "code",
   "execution_count": 12,
   "id": "f180beab",
   "metadata": {},
   "outputs": [
    {
     "data": {
      "image/svg+xml": [
       "<?xml version=\"1.0\" encoding=\"UTF-8\" standalone=\"no\"?>\n",
       "<!DOCTYPE svg PUBLIC \"-//W3C//DTD SVG 1.1//EN\"\n",
       " \"http://www.w3.org/Graphics/SVG/1.1/DTD/svg11.dtd\">\n",
       "<!-- Generated by graphviz version 2.50.0 (0)\n",
       " -->\n",
       "<!-- Pages: 1 -->\n",
       "<svg width=\"738pt\" height=\"278pt\"\n",
       " viewBox=\"0.00 0.00 737.99 277.74\" xmlns=\"http://www.w3.org/2000/svg\" xmlns:xlink=\"http://www.w3.org/1999/xlink\">\n",
       "<g id=\"graph0\" class=\"graph\" transform=\"scale(1 1) rotate(0) translate(4 273.74)\">\n",
       "<polygon fill=\"white\" stroke=\"transparent\" points=\"-4,4 -4,-273.74 733.99,-273.74 733.99,4 -4,4\"/>\n",
       "<!-- A -->\n",
       "<g id=\"node1\" class=\"node\">\n",
       "<title>A</title>\n",
       "<ellipse fill=\"none\" stroke=\"black\" cx=\"266.24\" cy=\"-251.74\" rx=\"123.48\" ry=\"18\"/>\n",
       "<text text-anchor=\"middle\" x=\"266.24\" y=\"-248.04\" font-family=\"Times New Roman,serif\" font-size=\"14.00\">Assessed for eligibility (n=840)</text>\n",
       "</g>\n",
       "<!-- B -->\n",
       "<g id=\"node2\" class=\"node\">\n",
       "<title>B</title>\n",
       "<ellipse fill=\"none\" stroke=\"black\" cx=\"169.24\" cy=\"-170.87\" rx=\"89.61\" ry=\"26.74\"/>\n",
       "<text text-anchor=\"middle\" x=\"169.24\" y=\"-174.67\" font-family=\"Times New Roman,serif\" font-size=\"14.00\">Excluded (n=140)</text>\n",
       "<text text-anchor=\"middle\" x=\"169.24\" y=\"-159.67\" font-family=\"Times New Roman,serif\" font-size=\"14.00\">Not meeting criteria</text>\n",
       "</g>\n",
       "<!-- A&#45;&gt;B -->\n",
       "<g id=\"edge1\" class=\"edge\">\n",
       "<title>A&#45;&gt;B</title>\n",
       "<path fill=\"none\" stroke=\"black\" d=\"M245.2,-233.63C234.12,-224.62 220.2,-213.3 207.31,-202.82\"/>\n",
       "<polygon fill=\"black\" stroke=\"black\" points=\"209.42,-200.03 199.45,-196.43 205,-205.46 209.42,-200.03\"/>\n",
       "</g>\n",
       "<!-- C -->\n",
       "<g id=\"node3\" class=\"node\">\n",
       "<title>C</title>\n",
       "<ellipse fill=\"none\" stroke=\"black\" cx=\"364.24\" cy=\"-170.87\" rx=\"87.18\" ry=\"18\"/>\n",
       "<text text-anchor=\"middle\" x=\"364.24\" y=\"-167.17\" font-family=\"Times New Roman,serif\" font-size=\"14.00\">Randomized (n=700)</text>\n",
       "</g>\n",
       "<!-- A&#45;&gt;C -->\n",
       "<g id=\"edge2\" class=\"edge\">\n",
       "<title>A&#45;&gt;C</title>\n",
       "<path fill=\"none\" stroke=\"black\" d=\"M287.51,-233.63C301.57,-222.31 320.17,-207.34 335.54,-194.97\"/>\n",
       "<polygon fill=\"black\" stroke=\"black\" points=\"338.1,-197.41 343.69,-188.41 333.71,-191.95 338.1,-197.41\"/>\n",
       "</g>\n",
       "<!-- D -->\n",
       "<g id=\"node4\" class=\"node\">\n",
       "<title>D</title>\n",
       "<ellipse fill=\"none\" stroke=\"black\" cx=\"271.24\" cy=\"-90\" rx=\"61.19\" ry=\"18\"/>\n",
       "<text text-anchor=\"middle\" x=\"271.24\" y=\"-86.3\" font-family=\"Times New Roman,serif\" font-size=\"14.00\">Early (n=352)</text>\n",
       "</g>\n",
       "<!-- C&#45;&gt;D -->\n",
       "<g id=\"edge3\" class=\"edge\">\n",
       "<title>C&#45;&gt;D</title>\n",
       "<path fill=\"none\" stroke=\"black\" d=\"M344.52,-153.14C331.02,-141.7 312.96,-126.38 298.15,-113.82\"/>\n",
       "<polygon fill=\"black\" stroke=\"black\" points=\"300.19,-110.96 290.3,-107.16 295.66,-116.3 300.19,-110.96\"/>\n",
       "</g>\n",
       "<!-- E -->\n",
       "<g id=\"node5\" class=\"node\">\n",
       "<title>E</title>\n",
       "<ellipse fill=\"none\" stroke=\"black\" cx=\"458.24\" cy=\"-90\" rx=\"57.69\" ry=\"18\"/>\n",
       "<text text-anchor=\"middle\" x=\"458.24\" y=\"-86.3\" font-family=\"Times New Roman,serif\" font-size=\"14.00\">Late (n=348)</text>\n",
       "</g>\n",
       "<!-- C&#45;&gt;E -->\n",
       "<g id=\"edge4\" class=\"edge\">\n",
       "<title>C&#45;&gt;E</title>\n",
       "<path fill=\"none\" stroke=\"black\" d=\"M384.18,-153.14C397.82,-141.7 416.08,-126.38 431.05,-113.82\"/>\n",
       "<polygon fill=\"black\" stroke=\"black\" points=\"433.57,-116.27 438.98,-107.16 429.07,-110.91 433.57,-116.27\"/>\n",
       "</g>\n",
       "<!-- F -->\n",
       "<g id=\"node6\" class=\"node\">\n",
       "<title>F</title>\n",
       "<ellipse fill=\"none\" stroke=\"black\" cx=\"81.24\" cy=\"-18\" rx=\"81.49\" ry=\"18\"/>\n",
       "<text text-anchor=\"middle\" x=\"81.24\" y=\"-14.3\" font-family=\"Times New Roman,serif\" font-size=\"14.00\">Early Treat (n=177)</text>\n",
       "</g>\n",
       "<!-- D&#45;&gt;F -->\n",
       "<g id=\"edge5\" class=\"edge\">\n",
       "<title>D&#45;&gt;F</title>\n",
       "<path fill=\"none\" stroke=\"black\" d=\"M234.61,-75.5C205.19,-64.67 163.59,-49.34 131.13,-37.38\"/>\n",
       "<polygon fill=\"black\" stroke=\"black\" points=\"131.97,-33.96 121.38,-33.79 129.55,-40.53 131.97,-33.96\"/>\n",
       "</g>\n",
       "<!-- G -->\n",
       "<g id=\"node7\" class=\"node\">\n",
       "<title>G</title>\n",
       "<ellipse fill=\"none\" stroke=\"black\" cx=\"271.24\" cy=\"-18\" rx=\"90.98\" ry=\"18\"/>\n",
       "<text text-anchor=\"middle\" x=\"271.24\" y=\"-14.3\" font-family=\"Times New Roman,serif\" font-size=\"14.00\">Early Placebo (n=175)</text>\n",
       "</g>\n",
       "<!-- D&#45;&gt;G -->\n",
       "<g id=\"edge6\" class=\"edge\">\n",
       "<title>D&#45;&gt;G</title>\n",
       "<path fill=\"none\" stroke=\"black\" d=\"M271.24,-71.7C271.24,-63.98 271.24,-54.71 271.24,-46.11\"/>\n",
       "<polygon fill=\"black\" stroke=\"black\" points=\"274.74,-46.1 271.24,-36.1 267.74,-46.1 274.74,-46.1\"/>\n",
       "</g>\n",
       "<!-- H -->\n",
       "<g id=\"node8\" class=\"node\">\n",
       "<title>H</title>\n",
       "<ellipse fill=\"none\" stroke=\"black\" cx=\"458.24\" cy=\"-18\" rx=\"77.99\" ry=\"18\"/>\n",
       "<text text-anchor=\"middle\" x=\"458.24\" y=\"-14.3\" font-family=\"Times New Roman,serif\" font-size=\"14.00\">Late Treat (n=174)</text>\n",
       "</g>\n",
       "<!-- E&#45;&gt;H -->\n",
       "<g id=\"edge7\" class=\"edge\">\n",
       "<title>E&#45;&gt;H</title>\n",
       "<path fill=\"none\" stroke=\"black\" d=\"M458.24,-71.7C458.24,-63.98 458.24,-54.71 458.24,-46.11\"/>\n",
       "<polygon fill=\"black\" stroke=\"black\" points=\"461.74,-46.1 458.24,-36.1 454.74,-46.1 461.74,-46.1\"/>\n",
       "</g>\n",
       "<!-- I -->\n",
       "<g id=\"node9\" class=\"node\">\n",
       "<title>I</title>\n",
       "<ellipse fill=\"none\" stroke=\"black\" cx=\"642.24\" cy=\"-18\" rx=\"87.99\" ry=\"18\"/>\n",
       "<text text-anchor=\"middle\" x=\"642.24\" y=\"-14.3\" font-family=\"Times New Roman,serif\" font-size=\"14.00\">Late Placebo (n=174)</text>\n",
       "</g>\n",
       "<!-- E&#45;&gt;I -->\n",
       "<g id=\"edge8\" class=\"edge\">\n",
       "<title>E&#45;&gt;I</title>\n",
       "<path fill=\"none\" stroke=\"black\" d=\"M493.28,-75.67C521.54,-64.92 561.61,-49.68 593.07,-37.71\"/>\n",
       "<polygon fill=\"black\" stroke=\"black\" points=\"594.44,-40.93 602.54,-34.1 591.95,-34.39 594.44,-40.93\"/>\n",
       "</g>\n",
       "</g>\n",
       "</svg>\n"
      ],
      "text/plain": [
       "<graphviz.graphs.Digraph at 0x198ccfc3040>"
      ]
     },
     "execution_count": 12,
     "metadata": {},
     "output_type": "execute_result"
    }
   ],
   "source": [
    "from graphviz import Digraph\n",
    "\n",
    "dot = Digraph(comment='CONSORT Diagram')\n",
    "\n",
    "#First nodes\n",
    "dot.node('A', 'Assessed for eligibility (n=840)')\n",
    "dot.node('B', 'Excluded (n=140)\\nNot meeting criteria')\n",
    "dot.node('C', 'Randomized (n=700)')\n",
    "\n",
    "# Nodes Early vs Late\n",
    "dot.node('D', 'Early (n=352)')\n",
    "dot.node('E', 'Late (n=348)')\n",
    "\n",
    "# Subgroups\n",
    "dot.node('F', 'Early Treat (n=177)')\n",
    "dot.node('G', 'Early Placebo (n=175)')\n",
    "dot.node('H', 'Late Treat (n=174)')\n",
    "dot.node('I', 'Late Placebo (n=174)')\n",
    "\n",
    "# Conections\n",
    "dot.edge('A', 'B')\n",
    "dot.edge('A', 'C')\n",
    "dot.edge('C', 'D')\n",
    "dot.edge('C', 'E')\n",
    "dot.edge('D', 'F')\n",
    "dot.edge('D', 'G')\n",
    "dot.edge('E', 'H')\n",
    "dot.edge('E', 'I')\n",
    "\n",
    "dot #PLOT"
   ]
  },
  {
   "cell_type": "markdown",
   "id": "ddd3f1e3",
   "metadata": {},
   "source": [
    "# 3. Exploratory Data Analysis (EDA)\n",
    "\n",
    "Lets explore our dataset:"
   ]
  },
  {
   "cell_type": "code",
   "execution_count": 13,
   "id": "dfd1021b",
   "metadata": {
    "scrolled": true
   },
   "outputs": [
    {
     "data": {
      "text/html": [
       "<div>\n",
       "<style scoped>\n",
       "    .dataframe tbody tr th:only-of-type {\n",
       "        vertical-align: middle;\n",
       "    }\n",
       "\n",
       "    .dataframe tbody tr th {\n",
       "        vertical-align: top;\n",
       "    }\n",
       "\n",
       "    .dataframe thead th {\n",
       "        text-align: right;\n",
       "    }\n",
       "</style>\n",
       "<table border=\"1\" class=\"dataframe\">\n",
       "  <thead>\n",
       "    <tr style=\"text-align: right;\">\n",
       "      <th></th>\n",
       "      <th>Age</th>\n",
       "      <th>Inflammatory markers pre</th>\n",
       "      <th>Week 8 outcome</th>\n",
       "      <th>Time to recovery</th>\n",
       "      <th>Time to death</th>\n",
       "      <th>Week 8 clinical score</th>\n",
       "      <th>Inflammatory markers post</th>\n",
       "    </tr>\n",
       "  </thead>\n",
       "  <tbody>\n",
       "    <tr>\n",
       "      <th>count</th>\n",
       "      <td>700.000000</td>\n",
       "      <td>700.000000</td>\n",
       "      <td>700.000000</td>\n",
       "      <td>246.000000</td>\n",
       "      <td>700.000000</td>\n",
       "      <td>246.000000</td>\n",
       "      <td>246.000000</td>\n",
       "    </tr>\n",
       "    <tr>\n",
       "      <th>mean</th>\n",
       "      <td>40.521429</td>\n",
       "      <td>9.975562</td>\n",
       "      <td>0.351429</td>\n",
       "      <td>19.547807</td>\n",
       "      <td>31.510264</td>\n",
       "      <td>1.995935</td>\n",
       "      <td>4.367874</td>\n",
       "    </tr>\n",
       "    <tr>\n",
       "      <th>std</th>\n",
       "      <td>11.897432</td>\n",
       "      <td>2.956830</td>\n",
       "      <td>0.477758</td>\n",
       "      <td>5.790609</td>\n",
       "      <td>20.065255</td>\n",
       "      <td>1.169329</td>\n",
       "      <td>2.194718</td>\n",
       "    </tr>\n",
       "    <tr>\n",
       "      <th>min</th>\n",
       "      <td>20.000000</td>\n",
       "      <td>0.276198</td>\n",
       "      <td>0.000000</td>\n",
       "      <td>6.874287</td>\n",
       "      <td>1.000000</td>\n",
       "      <td>0.000000</td>\n",
       "      <td>0.000000</td>\n",
       "    </tr>\n",
       "    <tr>\n",
       "      <th>25%</th>\n",
       "      <td>30.000000</td>\n",
       "      <td>7.916159</td>\n",
       "      <td>0.000000</td>\n",
       "      <td>15.343043</td>\n",
       "      <td>14.724882</td>\n",
       "      <td>1.000000</td>\n",
       "      <td>2.713491</td>\n",
       "    </tr>\n",
       "    <tr>\n",
       "      <th>50%</th>\n",
       "      <td>42.000000</td>\n",
       "      <td>9.995711</td>\n",
       "      <td>0.000000</td>\n",
       "      <td>19.365427</td>\n",
       "      <td>26.708642</td>\n",
       "      <td>2.000000</td>\n",
       "      <td>4.011333</td>\n",
       "    </tr>\n",
       "    <tr>\n",
       "      <th>75%</th>\n",
       "      <td>51.000000</td>\n",
       "      <td>11.899198</td>\n",
       "      <td>1.000000</td>\n",
       "      <td>23.367519</td>\n",
       "      <td>56.000000</td>\n",
       "      <td>3.000000</td>\n",
       "      <td>5.636248</td>\n",
       "    </tr>\n",
       "    <tr>\n",
       "      <th>max</th>\n",
       "      <td>60.000000</td>\n",
       "      <td>21.558194</td>\n",
       "      <td>1.000000</td>\n",
       "      <td>36.263657</td>\n",
       "      <td>57.201692</td>\n",
       "      <td>4.000000</td>\n",
       "      <td>10.922607</td>\n",
       "    </tr>\n",
       "  </tbody>\n",
       "</table>\n",
       "</div>"
      ],
      "text/plain": [
       "              Age  Inflammatory markers pre  Week 8 outcome  Time to recovery  \\\n",
       "count  700.000000                700.000000      700.000000        246.000000   \n",
       "mean    40.521429                  9.975562        0.351429         19.547807   \n",
       "std     11.897432                  2.956830        0.477758          5.790609   \n",
       "min     20.000000                  0.276198        0.000000          6.874287   \n",
       "25%     30.000000                  7.916159        0.000000         15.343043   \n",
       "50%     42.000000                  9.995711        0.000000         19.365427   \n",
       "75%     51.000000                 11.899198        1.000000         23.367519   \n",
       "max     60.000000                 21.558194        1.000000         36.263657   \n",
       "\n",
       "       Time to death  Week 8 clinical score  Inflammatory markers post  \n",
       "count     700.000000             246.000000                 246.000000  \n",
       "mean       31.510264               1.995935                   4.367874  \n",
       "std        20.065255               1.169329                   2.194718  \n",
       "min         1.000000               0.000000                   0.000000  \n",
       "25%        14.724882               1.000000                   2.713491  \n",
       "50%        26.708642               2.000000                   4.011333  \n",
       "75%        56.000000               3.000000                   5.636248  \n",
       "max        57.201692               4.000000                  10.922607  "
      ]
     },
     "execution_count": 13,
     "metadata": {},
     "output_type": "execute_result"
    }
   ],
   "source": [
    "df.describe()"
   ]
  },
  {
   "cell_type": "markdown",
   "id": "3cc4eaac",
   "metadata": {},
   "source": [
    "Our simulated dataset includes 700 patients, of whom 246 survived. The \"NA\" entries in the last three columns correspond to non-survivors. On average, patients are around 40 years old, and recovery among survivors takes roughly 19 days.\n",
    "\n",
    "Now, let’s explore how the data behaves across the different groups (treatments):"
   ]
  },
  {
   "cell_type": "code",
   "execution_count": 14,
   "id": "e8b442b9",
   "metadata": {},
   "outputs": [
    {
     "data": {
      "text/html": [
       "<div>\n",
       "<style scoped>\n",
       "    .dataframe tbody tr th:only-of-type {\n",
       "        vertical-align: middle;\n",
       "    }\n",
       "\n",
       "    .dataframe tbody tr th {\n",
       "        vertical-align: top;\n",
       "    }\n",
       "\n",
       "    .dataframe thead tr th {\n",
       "        text-align: left;\n",
       "    }\n",
       "\n",
       "    .dataframe thead tr:last-of-type th {\n",
       "        text-align: right;\n",
       "    }\n",
       "</style>\n",
       "<table border=\"1\" class=\"dataframe\">\n",
       "  <thead>\n",
       "    <tr>\n",
       "      <th></th>\n",
       "      <th colspan=\"2\" halign=\"left\">Age</th>\n",
       "      <th colspan=\"2\" halign=\"left\">Inflammatory markers pre</th>\n",
       "      <th colspan=\"2\" halign=\"left\">Time to recovery</th>\n",
       "      <th colspan=\"2\" halign=\"left\">Time to death</th>\n",
       "      <th colspan=\"2\" halign=\"left\">Inflammatory markers post</th>\n",
       "    </tr>\n",
       "    <tr>\n",
       "      <th></th>\n",
       "      <th>mean</th>\n",
       "      <th>std</th>\n",
       "      <th>mean</th>\n",
       "      <th>std</th>\n",
       "      <th>mean</th>\n",
       "      <th>std</th>\n",
       "      <th>mean</th>\n",
       "      <th>std</th>\n",
       "      <th>mean</th>\n",
       "      <th>std</th>\n",
       "    </tr>\n",
       "    <tr>\n",
       "      <th>Treatment group</th>\n",
       "      <th></th>\n",
       "      <th></th>\n",
       "      <th></th>\n",
       "      <th></th>\n",
       "      <th></th>\n",
       "      <th></th>\n",
       "      <th></th>\n",
       "      <th></th>\n",
       "      <th></th>\n",
       "      <th></th>\n",
       "    </tr>\n",
       "  </thead>\n",
       "  <tbody>\n",
       "    <tr>\n",
       "      <th>EarlyP</th>\n",
       "      <td>40.240000</td>\n",
       "      <td>11.978410</td>\n",
       "      <td>9.994752</td>\n",
       "      <td>3.123483</td>\n",
       "      <td>22.033828</td>\n",
       "      <td>4.798300</td>\n",
       "      <td>31.988059</td>\n",
       "      <td>18.904820</td>\n",
       "      <td>5.572151</td>\n",
       "      <td>2.381808</td>\n",
       "    </tr>\n",
       "    <tr>\n",
       "      <th>EarlyT</th>\n",
       "      <td>40.689266</td>\n",
       "      <td>11.925410</td>\n",
       "      <td>9.852138</td>\n",
       "      <td>3.120642</td>\n",
       "      <td>16.927914</td>\n",
       "      <td>4.877763</td>\n",
       "      <td>48.064800</td>\n",
       "      <td>13.352441</td>\n",
       "      <td>3.407825</td>\n",
       "      <td>1.465105</td>\n",
       "    </tr>\n",
       "    <tr>\n",
       "      <th>LateP</th>\n",
       "      <td>40.614943</td>\n",
       "      <td>11.616015</td>\n",
       "      <td>10.026528</td>\n",
       "      <td>2.822513</td>\n",
       "      <td>19.611878</td>\n",
       "      <td>5.156435</td>\n",
       "      <td>29.091539</td>\n",
       "      <td>17.131567</td>\n",
       "      <td>5.068835</td>\n",
       "      <td>2.334943</td>\n",
       "    </tr>\n",
       "    <tr>\n",
       "      <th>LateT</th>\n",
       "      <td>40.540230</td>\n",
       "      <td>12.160587</td>\n",
       "      <td>10.030848</td>\n",
       "      <td>2.759908</td>\n",
       "      <td>27.789646</td>\n",
       "      <td>3.302322</td>\n",
       "      <td>16.608489</td>\n",
       "      <td>16.809819</td>\n",
       "      <td>5.227402</td>\n",
       "      <td>2.513330</td>\n",
       "    </tr>\n",
       "  </tbody>\n",
       "</table>\n",
       "</div>"
      ],
      "text/plain": [
       "                       Age            Inflammatory markers pre            \\\n",
       "                      mean        std                     mean       std   \n",
       "Treatment group                                                            \n",
       "EarlyP           40.240000  11.978410                 9.994752  3.123483   \n",
       "EarlyT           40.689266  11.925410                 9.852138  3.120642   \n",
       "LateP            40.614943  11.616015                10.026528  2.822513   \n",
       "LateT            40.540230  12.160587                10.030848  2.759908   \n",
       "\n",
       "                Time to recovery           Time to death             \\\n",
       "                            mean       std          mean        std   \n",
       "Treatment group                                                       \n",
       "EarlyP                 22.033828  4.798300     31.988059  18.904820   \n",
       "EarlyT                 16.927914  4.877763     48.064800  13.352441   \n",
       "LateP                  19.611878  5.156435     29.091539  17.131567   \n",
       "LateT                  27.789646  3.302322     16.608489  16.809819   \n",
       "\n",
       "                Inflammatory markers post            \n",
       "                                     mean       std  \n",
       "Treatment group                                      \n",
       "EarlyP                           5.572151  2.381808  \n",
       "EarlyT                           3.407825  1.465105  \n",
       "LateP                            5.068835  2.334943  \n",
       "LateT                            5.227402  2.513330  "
      ]
     },
     "execution_count": 14,
     "metadata": {},
     "output_type": "execute_result"
    }
   ],
   "source": [
    "# Agrupar por tratamiento y calcular media y std\n",
    "\n",
    "conti_vars = ['Age', 'Inflammatory markers pre', 'Time to recovery', 'Time to death', 'Inflammatory markers post']\n",
    "\n",
    "grouped_summary = df.groupby('Treatment group')[conti_vars].agg(['mean','std'])\n",
    "grouped_summary"
   ]
  },
  {
   "cell_type": "markdown",
   "id": "b8d54e3b",
   "metadata": {},
   "source": [
    "As expected, the mean age is very similar across treatment groups, with a standard deviation of about 12 years. The time to recovery appears to be shorter in the Early Treatment group and longer in the Late Treatment group — in fact, even longer than in the Placebo groups.\n",
    "\n",
    "In addition, the mean level of inflammatory markers after treatment is lower in the Early Treatment group, suggesting a potential beneficial effect of earlier intervention."
   ]
  },
  {
   "cell_type": "code",
   "execution_count": 15,
   "id": "18b8d037",
   "metadata": {},
   "outputs": [
    {
     "data": {
      "image/png": "[encoded data removed]",
      "text/plain": [
       "<Figure size 800x800 with 4 Axes>"
      ]
     },
     "metadata": {},
     "output_type": "display_data"
    }
   ],
   "source": [
    "import matplotlib.pyplot as plt\n",
    "import seaborn as sns\n",
    "\n",
    "# Custom palette\n",
    "custom_palette = {\n",
    "    \"EarlyT\": \"#1f77b4\",   # strong blue\n",
    "    \"EarlyP\": \"#aec7e8\",   # light blue\n",
    "    \"LateT\":  \"#2ca02c\",   # strong green\n",
    "    \"LateP\":  \"#98df8a\"    # light green\n",
    "}\n",
    "\n",
    "# Sample 4 colors from Viridis\n",
    "viridis_palette = sns.color_palette(\"viridis\", 4)\n",
    "\n",
    "# Assign to your groups\n",
    "custom_palette1 = {\n",
    "    \"EarlyT\": viridis_palette[0],  # darkest\n",
    "    \"EarlyP\": viridis_palette[1],\n",
    "    \"LateT\":  viridis_palette[2],\n",
    "    \"LateP\":  viridis_palette[3],  # lightest\n",
    "}\n",
    "\n",
    "# Order in the plot (placebo first row, treatment second row)\n",
    "order = [\"EarlyP\", \"LateP\", \"EarlyT\", \"LateT\"]\n",
    "\n",
    "g = sns.FacetGrid(\n",
    "    df, \n",
    "    col=\"Treatment group\", \n",
    "    col_wrap=2, \n",
    "    height=4, \n",
    "    sharex=True, \n",
    "    sharey=True, \n",
    "    hue=\"Treatment group\", \n",
    "    palette=custom_palette1,\n",
    "    col_order=order\n",
    ")\n",
    "\n",
    "# Map histogram with colors\n",
    "g.map_dataframe(sns.histplot, x=\"Age\", bins=15, edgecolor=\"black\")\n",
    "\n",
    "g.set_axis_labels(\"Age (years)\", \"Count\")\n",
    "g.set_titles(\"{col_name}\")\n",
    "plt.suptitle(\"Age distribution by treatment group\", y=1.05)\n",
    "\n",
    "plt.show()"
   ]
  },
  {
   "cell_type": "markdown",
   "id": "95e2fd85",
   "metadata": {},
   "source": [
    "The upper plot shows the age distribution across the different treatment groups (*blue: EarlyT darkblue: EarlyP; green: LateT and dark green: LateP*). Overall, the distributions are similar. In the LateP group, certain ages appear more frequently than others; however, these peaks are spread across the entire age range and therefore are unlikely to have a major impact on our results."
   ]
  },
  {
   "cell_type": "code",
   "execution_count": 16,
   "id": "150e7f8f",
   "metadata": {},
   "outputs": [],
   "source": [
    "import pandas as pd\n",
    "\n",
    "\n",
    "#\n",
    "df_long = df.melt(\n",
    "    id_vars=['Treatment group'], \n",
    "    value_vars=['Inflammatory markers pre', 'Inflammatory markers post'], \n",
    "    var_name='Time', \n",
    "    value_name='Markers'  # <-- nombre único\n",
    ")"
   ]
  },
  {
   "cell_type": "code",
   "execution_count": 17,
   "id": "9a9e8d0c",
   "metadata": {},
   "outputs": [
    {
     "data": {
      "text/html": [
       "<div>\n",
       "<style scoped>\n",
       "    .dataframe tbody tr th:only-of-type {\n",
       "        vertical-align: middle;\n",
       "    }\n",
       "\n",
       "    .dataframe tbody tr th {\n",
       "        vertical-align: top;\n",
       "    }\n",
       "\n",
       "    .dataframe thead th {\n",
       "        text-align: right;\n",
       "    }\n",
       "</style>\n",
       "<table border=\"1\" class=\"dataframe\">\n",
       "  <thead>\n",
       "    <tr style=\"text-align: right;\">\n",
       "      <th></th>\n",
       "      <th>Treatment group</th>\n",
       "      <th>Time</th>\n",
       "      <th>Markers</th>\n",
       "    </tr>\n",
       "  </thead>\n",
       "  <tbody>\n",
       "    <tr>\n",
       "      <th>0</th>\n",
       "      <td>EarlyT</td>\n",
       "      <td>Inflammatory markers pre</td>\n",
       "      <td>11.490142</td>\n",
       "    </tr>\n",
       "    <tr>\n",
       "      <th>1</th>\n",
       "      <td>LateP</td>\n",
       "      <td>Inflammatory markers pre</td>\n",
       "      <td>9.585207</td>\n",
       "    </tr>\n",
       "    <tr>\n",
       "      <th>2</th>\n",
       "      <td>EarlyP</td>\n",
       "      <td>Inflammatory markers pre</td>\n",
       "      <td>11.943066</td>\n",
       "    </tr>\n",
       "    <tr>\n",
       "      <th>3</th>\n",
       "      <td>LateT</td>\n",
       "      <td>Inflammatory markers pre</td>\n",
       "      <td>14.569090</td>\n",
       "    </tr>\n",
       "    <tr>\n",
       "      <th>4</th>\n",
       "      <td>EarlyP</td>\n",
       "      <td>Inflammatory markers pre</td>\n",
       "      <td>9.297540</td>\n",
       "    </tr>\n",
       "  </tbody>\n",
       "</table>\n",
       "</div>"
      ],
      "text/plain": [
       "  Treatment group                      Time    Markers\n",
       "0          EarlyT  Inflammatory markers pre  11.490142\n",
       "1           LateP  Inflammatory markers pre   9.585207\n",
       "2          EarlyP  Inflammatory markers pre  11.943066\n",
       "3           LateT  Inflammatory markers pre  14.569090\n",
       "4          EarlyP  Inflammatory markers pre   9.297540"
      ]
     },
     "execution_count": 17,
     "metadata": {},
     "output_type": "execute_result"
    }
   ],
   "source": [
    "df_long.head()"
   ]
  },
  {
   "cell_type": "code",
   "execution_count": 18,
   "id": "36301f2f",
   "metadata": {},
   "outputs": [
    {
     "data": {
      "image/png": "[encoded data removed]",
      "text/plain": [
       "<Figure size 1000x600 with 1 Axes>"
      ]
     },
     "metadata": {},
     "output_type": "display_data"
    }
   ],
   "source": [
    "plt.figure(figsize=(10,6))\n",
    "\n",
    "order = [\"EarlyP\", \"EarlyT\",\"LateP\", \"LateT\"]\n",
    "\n",
    "sns.boxplot(\n",
    "    data=df_long,\n",
    "    x='Treatment group',\n",
    "    y='Markers',\n",
    "    order=order,\n",
    "    hue='Time',\n",
    "    palette=['lightgray', 'orange']  # pre = lightgray, post = orange (puedes cambiar)\n",
    ")\n",
    "\n",
    "plt.title(\"Pre- and Post-treatment Inflammatory Markers by Treatment Group\")\n",
    "plt.ylabel(\"Inflammatory markers (mg/L)\")\n",
    "plt.xlabel(\"Treatment group\")\n",
    "plt.legend()\n",
    "plt.show()"
   ]
  },
  {
   "cell_type": "markdown",
   "id": "8e4ee728",
   "metadata": {},
   "source": [
    "As expected, inflammatory markers are higher at the onset of the illness (before treatment) than 8 weeks later. Interestingly, patients in the Early Treatment group appear to recover more effectively, showing lower inflammatory marker values at the eight-week follow-up."
   ]
  },
  {
   "cell_type": "code",
   "execution_count": 19,
   "id": "ade444e1",
   "metadata": {},
   "outputs": [
    {
     "data": {
      "text/html": [
       "<div>\n",
       "<style scoped>\n",
       "    .dataframe tbody tr th:only-of-type {\n",
       "        vertical-align: middle;\n",
       "    }\n",
       "\n",
       "    .dataframe tbody tr th {\n",
       "        vertical-align: top;\n",
       "    }\n",
       "\n",
       "    .dataframe thead th {\n",
       "        text-align: right;\n",
       "    }\n",
       "</style>\n",
       "<table border=\"1\" class=\"dataframe\">\n",
       "  <thead>\n",
       "    <tr style=\"text-align: right;\">\n",
       "      <th></th>\n",
       "      <th>Death</th>\n",
       "      <th>Survived</th>\n",
       "    </tr>\n",
       "    <tr>\n",
       "      <th>Treatment group</th>\n",
       "      <th></th>\n",
       "      <th></th>\n",
       "    </tr>\n",
       "  </thead>\n",
       "  <tbody>\n",
       "    <tr>\n",
       "      <th>EarlyP</th>\n",
       "      <td>115</td>\n",
       "      <td>60</td>\n",
       "    </tr>\n",
       "    <tr>\n",
       "      <th>EarlyT</th>\n",
       "      <td>53</td>\n",
       "      <td>124</td>\n",
       "    </tr>\n",
       "    <tr>\n",
       "      <th>LateP</th>\n",
       "      <td>133</td>\n",
       "      <td>41</td>\n",
       "    </tr>\n",
       "    <tr>\n",
       "      <th>LateT</th>\n",
       "      <td>153</td>\n",
       "      <td>21</td>\n",
       "    </tr>\n",
       "  </tbody>\n",
       "</table>\n",
       "</div>"
      ],
      "text/plain": [
       "                 Death  Survived\n",
       "Treatment group                 \n",
       "EarlyP             115        60\n",
       "EarlyT              53       124\n",
       "LateP              133        41\n",
       "LateT              153        21"
      ]
     },
     "execution_count": 19,
     "metadata": {},
     "output_type": "execute_result"
    }
   ],
   "source": [
    "# Counts of each outcome per treatment group\n",
    "survival_counts = df.groupby('Treatment group')['Week 8 outcome'].value_counts().unstack()\n",
    "\n",
    "# Rename columns\n",
    "survival_counts.columns = ['Death', 'Survived']\n",
    "\n",
    "# Show table\n",
    "survival_counts"
   ]
  },
  {
   "cell_type": "code",
   "execution_count": 20,
   "id": "e14f8217",
   "metadata": {},
   "outputs": [
    {
     "data": {
      "image/png": "[encoded data removed]",
      "text/plain": [
       "<Figure size 640x480 with 1 Axes>"
      ]
     },
     "metadata": {},
     "output_type": "display_data"
    }
   ],
   "source": [
    "import matplotlib.pyplot as plt\n",
    "\n",
    "survival_palette = {\n",
    "    \"Death\": \"#aec7e8\",    # light blue\n",
    "    \"Survived\": \"#1f77b4\", # strong blue\n",
    "}\n",
    "\n",
    "# Plot stacked bar\n",
    "survival_counts.plot(kind='bar', stacked=True, color=[survival_palette[col] for col in survival_counts.columns])\n",
    "\n",
    "plt.ylabel(\"Number of patients\")\n",
    "plt.title(\"Week 8 Survival by Treatment Group\")\n",
    "plt.xticks(rotation=0)\n",
    "plt.show()"
   ]
  },
  {
   "cell_type": "markdown",
   "id": "a1919da7",
   "metadata": {},
   "source": [
    "**Early Treatment clearly improves the primary outcome**, with a substantially higher survival rate compared to the placebo group. Interestingly, **Late Treatment does not seem to provide a survival benefit** — and may even be associated with a slight decrease in survival.\n",
    "\n",
    "In addition, the Early Placebo group also shows a higher survival rate than the Late Placebo group. This difference could be explained by unmeasured factors in the study — for instance, increased medical attention during the early phase, or simply a stronger placebo effect before symptoms become more severe."
   ]
  },
  {
   "cell_type": "code",
   "execution_count": 21,
   "id": "b4032da8",
   "metadata": {},
   "outputs": [
    {
     "data": {
      "text/html": [
       "<div>\n",
       "<style scoped>\n",
       "    .dataframe tbody tr th:only-of-type {\n",
       "        vertical-align: middle;\n",
       "    }\n",
       "\n",
       "    .dataframe tbody tr th {\n",
       "        vertical-align: top;\n",
       "    }\n",
       "\n",
       "    .dataframe thead th {\n",
       "        text-align: right;\n",
       "    }\n",
       "</style>\n",
       "<table border=\"1\" class=\"dataframe\">\n",
       "  <thead>\n",
       "    <tr style=\"text-align: right;\">\n",
       "      <th></th>\n",
       "      <th></th>\n",
       "      <th>Death %</th>\n",
       "      <th>Survived %</th>\n",
       "    </tr>\n",
       "    <tr>\n",
       "      <th>Treatment group</th>\n",
       "      <th>Sex</th>\n",
       "      <th></th>\n",
       "      <th></th>\n",
       "    </tr>\n",
       "  </thead>\n",
       "  <tbody>\n",
       "    <tr>\n",
       "      <th rowspan=\"2\" valign=\"top\">EarlyP</th>\n",
       "      <th>Female</th>\n",
       "      <td>70.238095</td>\n",
       "      <td>29.761905</td>\n",
       "    </tr>\n",
       "    <tr>\n",
       "      <th>Male</th>\n",
       "      <td>61.538462</td>\n",
       "      <td>38.461538</td>\n",
       "    </tr>\n",
       "    <tr>\n",
       "      <th rowspan=\"2\" valign=\"top\">EarlyT</th>\n",
       "      <th>Female</th>\n",
       "      <td>25.581395</td>\n",
       "      <td>74.418605</td>\n",
       "    </tr>\n",
       "    <tr>\n",
       "      <th>Male</th>\n",
       "      <td>34.065934</td>\n",
       "      <td>65.934066</td>\n",
       "    </tr>\n",
       "    <tr>\n",
       "      <th rowspan=\"2\" valign=\"top\">LateP</th>\n",
       "      <th>Female</th>\n",
       "      <td>76.190476</td>\n",
       "      <td>23.809524</td>\n",
       "    </tr>\n",
       "    <tr>\n",
       "      <th>Male</th>\n",
       "      <td>76.666667</td>\n",
       "      <td>23.333333</td>\n",
       "    </tr>\n",
       "    <tr>\n",
       "      <th rowspan=\"2\" valign=\"top\">LateT</th>\n",
       "      <th>Female</th>\n",
       "      <td>90.476190</td>\n",
       "      <td>9.523810</td>\n",
       "    </tr>\n",
       "    <tr>\n",
       "      <th>Male</th>\n",
       "      <td>85.555556</td>\n",
       "      <td>14.444444</td>\n",
       "    </tr>\n",
       "  </tbody>\n",
       "</table>\n",
       "</div>"
      ],
      "text/plain": [
       "                          Death %  Survived %\n",
       "Treatment group Sex                          \n",
       "EarlyP          Female  70.238095   29.761905\n",
       "                Male    61.538462   38.461538\n",
       "EarlyT          Female  25.581395   74.418605\n",
       "                Male    34.065934   65.934066\n",
       "LateP           Female  76.190476   23.809524\n",
       "                Male    76.666667   23.333333\n",
       "LateT           Female  90.476190    9.523810\n",
       "                Male    85.555556   14.444444"
      ]
     },
     "execution_count": 21,
     "metadata": {},
     "output_type": "execute_result"
    }
   ],
   "source": [
    "#Treatment + Sex vs Outcome\n",
    "sex_survival = pd.crosstab(\n",
    "    [df['Treatment group'], df['Sex']],\n",
    "    df['Week 8 outcome']\n",
    ")\n",
    "\n",
    "# Rename \n",
    "sex_survival.columns = ['Death', 'Survived']\n",
    "\n",
    "# Calculate total and percentages\n",
    "sex_survival['Total'] = sex_survival['Death'] + sex_survival['Survived']\n",
    "sex_survival['Death %'] = sex_survival['Death'] / sex_survival['Total'] * 100\n",
    "sex_survival['Survived %'] = sex_survival['Survived'] / sex_survival['Total'] * 100\n",
    "\n",
    "sex_survival[['Death %','Survived %']]"
   ]
  },
  {
   "cell_type": "code",
   "execution_count": 22,
   "id": "f3cda3dc",
   "metadata": {},
   "outputs": [
    {
     "data": {
      "image/png": "[encoded data removed]",
      "text/plain": [
       "<Figure size 1000x600 with 1 Axes>"
      ]
     },
     "metadata": {},
     "output_type": "display_data"
    }
   ],
   "source": [
    "# Pivot\n",
    "plot_df = sex_survival[['Death %','Survived %']].reset_index()\n",
    "plot_df.set_index(['Treatment group','Sex'], inplace=True)\n",
    "\n",
    "# Plot\n",
    "plot_df.plot(kind='bar', stacked=True, color=['#aec7e8','#1f77b4'], figsize=(10,6))\n",
    "\n",
    "plt.ylabel(\"Percentage of patients\")\n",
    "plt.title(\"Week 8 Survival (%) by Treatment Group and Sex\")\n",
    "plt.xticks(rotation=45, ha='right')\n",
    "plt.ylim(0,100)\n",
    "plt.show()"
   ]
  },
  {
   "cell_type": "markdown",
   "id": "e537c56e",
   "metadata": {},
   "source": [
    "There is some variance across the data. Although no strong differences are observed, slight variations between sexes in the Early Treatment and Placebo groups could suggest potential sex-related differences in treatment response, although they may also simply reflect random noise."
   ]
  },
  {
   "cell_type": "code",
   "execution_count": 23,
   "id": "5ad444b2",
   "metadata": {},
   "outputs": [
    {
     "data": {
      "text/html": [
       "<div>\n",
       "<style scoped>\n",
       "    .dataframe tbody tr th:only-of-type {\n",
       "        vertical-align: middle;\n",
       "    }\n",
       "\n",
       "    .dataframe tbody tr th {\n",
       "        vertical-align: top;\n",
       "    }\n",
       "\n",
       "    .dataframe thead th {\n",
       "        text-align: right;\n",
       "    }\n",
       "</style>\n",
       "<table border=\"1\" class=\"dataframe\">\n",
       "  <thead>\n",
       "    <tr style=\"text-align: right;\">\n",
       "      <th>Week 8 clinical score</th>\n",
       "      <th>0.0</th>\n",
       "      <th>1.0</th>\n",
       "      <th>2.0</th>\n",
       "      <th>3.0</th>\n",
       "      <th>4.0</th>\n",
       "    </tr>\n",
       "    <tr>\n",
       "      <th>Treatment group</th>\n",
       "      <th></th>\n",
       "      <th></th>\n",
       "      <th></th>\n",
       "      <th></th>\n",
       "      <th></th>\n",
       "    </tr>\n",
       "  </thead>\n",
       "  <tbody>\n",
       "    <tr>\n",
       "      <th>EarlyP</th>\n",
       "      <td>10</td>\n",
       "      <td>11</td>\n",
       "      <td>12</td>\n",
       "      <td>17</td>\n",
       "      <td>10</td>\n",
       "    </tr>\n",
       "    <tr>\n",
       "      <th>EarlyT</th>\n",
       "      <td>0</td>\n",
       "      <td>46</td>\n",
       "      <td>58</td>\n",
       "      <td>6</td>\n",
       "      <td>14</td>\n",
       "    </tr>\n",
       "    <tr>\n",
       "      <th>LateP</th>\n",
       "      <td>6</td>\n",
       "      <td>10</td>\n",
       "      <td>7</td>\n",
       "      <td>6</td>\n",
       "      <td>12</td>\n",
       "    </tr>\n",
       "    <tr>\n",
       "      <th>LateT</th>\n",
       "      <td>3</td>\n",
       "      <td>5</td>\n",
       "      <td>8</td>\n",
       "      <td>2</td>\n",
       "      <td>3</td>\n",
       "    </tr>\n",
       "  </tbody>\n",
       "</table>\n",
       "</div>"
      ],
      "text/plain": [
       "Week 8 clinical score  0.0  1.0  2.0  3.0  4.0\n",
       "Treatment group                               \n",
       "EarlyP                  10   11   12   17   10\n",
       "EarlyT                   0   46   58    6   14\n",
       "LateP                    6   10    7    6   12\n",
       "LateT                    3    5    8    2    3"
      ]
     },
     "execution_count": 23,
     "metadata": {},
     "output_type": "execute_result"
    }
   ],
   "source": [
    "# Crosstab: Treatment group vs Clinical score\n",
    "score_counts = pd.crosstab(df['Treatment group'], df['Week 8 clinical score'])\n",
    "\n",
    "# Optional: reorder rows\n",
    "score_counts = score_counts.reindex(order)\n",
    "score_counts\n"
   ]
  },
  {
   "cell_type": "code",
   "execution_count": 24,
   "id": "c3a95eed",
   "metadata": {},
   "outputs": [
    {
     "data": {
      "image/png": "[encoded data removed]",
      "text/plain": [
       "<Figure size 1000x600 with 1 Axes>"
      ]
     },
     "metadata": {},
     "output_type": "display_data"
    }
   ],
   "source": [
    "# Define colors for clinical scores 0–4\n",
    "score_colors = ['#d4e6f1','#7fb3d5','#2980b9','#1f618d','#154360']  # light to dark blue\n",
    "\n",
    "order = [\"EarlyP\",  \"EarlyT\", \"LateP\",\"LateT\"]\n",
    "\n",
    "# Reindex the DataFrame to match desired order\n",
    "score_counts_ordered = score_counts.reindex(order)\n",
    "\n",
    "# Plot\n",
    "score_counts_ordered.plot(\n",
    "    kind='bar',\n",
    "    stacked=True,\n",
    "    color=score_colors,\n",
    "    figsize=(10,6)\n",
    ")\n",
    "\n",
    "plt.ylabel(\"Number of patients\")\n",
    "plt.title(\"Week 8 Clinical Score by Treatment Group\")\n",
    "plt.xticks(rotation=0)\n",
    "plt.legend(title=\"Clinical score\", bbox_to_anchor=(1.05, 1), loc='upper left')\n",
    "plt.show()"
   ]
  },
  {
   "cell_type": "markdown",
   "id": "4b5465d3",
   "metadata": {},
   "source": [
    "Finally, we examined how the week 8 clinical score was distributed across categories. The differences in the total number of patients also reflect the survival rates of each group, which explains why the Early Treatment group includes more patients overall.\n",
    "\n",
    "The **Early Treatment group also shows a higher proportion of patients with low clinical scores (1–2)**, potentially indicating better recovery compared to the other groups. Interestingly, **in this group we did not observe any patient with a score of 0 (better than baseline)** — suggesting that, regardless of treatment or timing, patients still needed to go through the full course of the infection to achieve these unexpected benefits, which may not have occurred in the Early Treatment group."
   ]
  },
  {
   "cell_type": "markdown",
   "id": "aeaf23c7",
   "metadata": {},
   "source": [
    "# 4. Treatment Efficacy and Outcome Analysis\n",
    "\n",
    "Following the exploratory analyses, we will test two independent hypotheses:\n",
    "\n",
    "- **Early Treatment significantly increases patient survival probability.**\n",
    "- **Late Treatment is contraindicated and should not be applied, as it may adversely affect patient outcomes.**"
   ]
  },
  {
   "cell_type": "markdown",
   "id": "70ce9651",
   "metadata": {},
   "source": [
    "### Kaplan-Meier plot and Log-rank test\n",
    "\n",
    "We will start by producing a **Kaplan–Meier (KM) plot**. The KM method is used to estimate the survival probability over time, showing the fraction of patients who remain alive at each time point after treatment or placebo. The KM curves allow us to visually compare survival between treatment groups\n",
    "\n",
    "In our analysis, patients who survive through Week 8 are treated as **censored** at their last observed time. This means their survival time is included in the analysis up to the point we last observed them, but no event (death) occurred."
   ]
  },
  {
   "cell_type": "code",
   "execution_count": 68,
   "id": "9ef50309",
   "metadata": {},
   "outputs": [],
   "source": [
    "#pip install lifelines==0.27.4 #this version works with my pandas version"
   ]
  },
  {
   "cell_type": "code",
   "execution_count": 25,
   "id": "996ed82b",
   "metadata": {},
   "outputs": [],
   "source": [
    "from lifelines import KaplanMeierFitter"
   ]
  },
  {
   "cell_type": "code",
   "execution_count": 26,
   "id": "ea510efa",
   "metadata": {},
   "outputs": [
    {
     "name": "stdout",
     "output_type": "stream",
     "text": [
      "{'EarlyP': 26.34, 'EarlyT': 57.2, 'LateP': 24.74, 'LateT': 12.32}\n"
     ]
    },
    {
     "data": {
      "image/png": "[encoded data removed]",
      "text/plain": [
       "<Figure size 800x600 with 1 Axes>"
      ]
     },
     "metadata": {},
     "output_type": "display_data"
    }
   ],
   "source": [
    "kmf = KaplanMeierFitter()\n",
    "\n",
    "plt.figure(figsize=(8,6))\n",
    "plt.rcParams[\"figure.autolayout\"] = True\n",
    "\n",
    "median_times = {}\n",
    "\n",
    "for group in order:\n",
    "    kmf = KaplanMeierFitter()\n",
    "    mask = df['Treatment group'] == group\n",
    "    T = df.loc[mask, 'Time to death']\n",
    "    E = 1 - df.loc[mask, 'Week 8 outcome']\n",
    "    kmf.fit(T, event_observed=E, label=group)\n",
    "    ax = kmf.plot_survival_function(ci_show=True, color=custom_palette1[group])\n",
    "    ax.set_xlim(right=T.max())\n",
    "    median_times[group] = round(kmf.median_survival_time_, 2)\n",
    "\n",
    "print(median_times)\n",
    "plt.title(\"Kaplan–Meier Curve for Survival (Time to Death)\")\n",
    "plt.xlabel(\"Time (days)\")\n",
    "plt.ylabel(\"Survival Probability\")\n",
    "plt.ylim(0,1)\n",
    "plt.grid(alpha=0.3)\n",
    "plt.show()"
   ]
  },
  {
   "cell_type": "markdown",
   "id": "8aa5ccfd",
   "metadata": {},
   "source": [
    "The plot and median survival times suggest differences across treatment groups. Before drawing any conclusions, we will formally test the statistical significance of these differences using a **log-rank test**, which evaluates whether the survival curves differ significantly.\n",
    "\n",
    "We will perform two separate tests (EarlyT vs EarlyP and LateT vs LateP) involving completely independent sets of patients. Therefore, no multiple comparison correction will be applied. "
   ]
  },
  {
   "cell_type": "code",
   "execution_count": 27,
   "id": "c72e93e4",
   "metadata": {},
   "outputs": [
    {
     "name": "stdout",
     "output_type": "stream",
     "text": [
      "   test_statistic             p  -log2(p)\n",
      "0       62.459586  2.719688e-15  48.38548\n"
     ]
    }
   ],
   "source": [
    "from lifelines.statistics import logrank_test\n",
    "\n",
    "result_long = logrank_test(\n",
    "    df[df['Treatment group'] == 'EarlyT']['Time to death'],\n",
    "    df[df['Treatment group'] == 'EarlyP']['Time to death'],\n",
    "    event_observed_A=1 - df[df['Treatment group'] == 'EarlyT']['Week 8 outcome'],\n",
    "    event_observed_B=1 - df[df['Treatment group'] == 'EarlyP']['Week 8 outcome']\n",
    ")\n",
    "print(result_long.summary)"
   ]
  },
  {
   "cell_type": "code",
   "execution_count": 28,
   "id": "b8fbadc2",
   "metadata": {},
   "outputs": [
    {
     "name": "stdout",
     "output_type": "stream",
     "text": [
      "   test_statistic             p   -log2(p)\n",
      "0       41.958223  9.324445e-11  33.320191\n"
     ]
    }
   ],
   "source": [
    "result_long1 = logrank_test(\n",
    "    df[df['Treatment group'] == 'LateT']['Time to death'],\n",
    "    df[df['Treatment group'] == 'LateP']['Time to death'],\n",
    "    event_observed_A=1 - df[df['Treatment group'] == 'LateT']['Week 8 outcome'],\n",
    "    event_observed_B=1 - df[df['Treatment group'] == 'LateP']['Week 8 outcome']\n",
    ")\n",
    "print(result_long1.summary)"
   ]
  },
  {
   "cell_type": "markdown",
   "id": "7e35571c",
   "metadata": {},
   "source": [
    "We detected significant differences (p.value < 0.05) in both cases. Together with the plot and the median values we can determine:\n",
    "\n",
    "- **EarlyT** increases the survival probability over time when compared to the EarlyP\n",
    "- On the other hand, **LateT** decreases the survival probability when compared to the LateP, highlighting a potential effect of delayed treatment timing.\n",
    "\n",
    "For completeness, we also compared the two placebo groups (EarlyP vs LateP). As expected, no significant difference was observed (p.value > 0.05):"
   ]
  },
  {
   "cell_type": "code",
   "execution_count": 29,
   "id": "98d51203",
   "metadata": {},
   "outputs": [
    {
     "name": "stdout",
     "output_type": "stream",
     "text": [
      "   test_statistic         p  -log2(p)\n",
      "0        2.839451  0.091976  3.442605\n"
     ]
    }
   ],
   "source": [
    "result_long2 = logrank_test(\n",
    "    df[df['Treatment group'] == 'EarlyP']['Time to death'],\n",
    "    df[df['Treatment group'] == 'LateP']['Time to death'],\n",
    "    event_observed_A=1 - df[df['Treatment group'] == 'EarlyP']['Week 8 outcome'],\n",
    "    event_observed_B=1 - df[df['Treatment group'] == 'LateP']['Week 8 outcome']\n",
    ")\n",
    "print(result_long2.summary)"
   ]
  },
  {
   "cell_type": "markdown",
   "id": "e434b3e7",
   "metadata": {},
   "source": [
    "### Differences across groups for continuous variables – Shapiro, ANOVA, and Post-hoc Test (Tukey)\n",
    "\n",
    "We next examine **whether the different treatment groups differ in time to recovery (secondary outcome)**. \n",
    "\n",
    "Prior to applying **Analysis of Variance (ANOVA)**, it is necessary to verify that the data are approximately normally distributed within each group. If the normality assumption is violated, a non-parametric test should be employed. **Normality will be assessed using the Shapiro-Wilk test**."
   ]
  },
  {
   "cell_type": "code",
   "execution_count": 30,
   "id": "1929fbf2",
   "metadata": {},
   "outputs": [],
   "source": [
    "from scipy.stats import shapiro, f_oneway\n",
    "from statsmodels.stats.multicomp import pairwise_tukeyhsd"
   ]
  },
  {
   "cell_type": "code",
   "execution_count": 31,
   "id": "0e5748f6",
   "metadata": {},
   "outputs": [
    {
     "name": "stdout",
     "output_type": "stream",
     "text": [
      "EarlyT: Shapiro-Wilk stat=0.976, p=0.024\n",
      "  → EarlyT NOT normally distributed\n",
      "LateP: Shapiro-Wilk stat=0.955, p=0.106\n",
      "  → LateP Normally distributed\n",
      "EarlyP: Shapiro-Wilk stat=0.990, p=0.910\n",
      "  → EarlyP Normally distributed\n",
      "LateT: Shapiro-Wilk stat=0.964, p=0.603\n",
      "  → LateT Normally distributed\n"
     ]
    }
   ],
   "source": [
    "#Check normality for each group\n",
    "\n",
    "# Check normality for each group\n",
    "groups = df['Treatment group'].unique()\n",
    "\n",
    "for group in groups:\n",
    "    data = df.loc[df['Treatment group'] == group, 'Time to recovery'].dropna()  # drop NaNs\n",
    "    if len(data) < 3:\n",
    "        print(f\"{group}: Not enough data for Shapiro-Wilk test (n={len(data)})\")\n",
    "        continue\n",
    "    stat, p = shapiro(data)\n",
    "    print(f\"{group}: Shapiro-Wilk stat={stat:.3f}, p={p:.3f}\")\n",
    "    if p > 0.05:\n",
    "        print(f\"  → {group} Normally distributed\")\n",
    "    else:\n",
    "        print(f\"  → {group} NOT normally distributed\")"
   ]
  },
  {
   "cell_type": "markdown",
   "id": "547fadcb",
   "metadata": {},
   "source": [
    "One group (EarlyT) deviated from normality according to the Shapiro–Wilk test. However, ANOVA is generally robust to mild violations of normality, particularly when group sizes are similar. For this analysis, I will therefore proceed with **ANOVA**. In applied research, alternative approaches such as data transformation or the Kruskal–Wallis test could also be considered.\n",
    "\n",
    "ANOVA is a statistical method used to compare the means of two or more groups by analyzing the variance within and between groups. If the ANOVA p-value is significant (p < 0.05), a **post-hoc test, such as TukeyHSD**, can be performed to identify which specific groups differ. Tukey HSD provides adjusted p-values that account for multiple comparisons, so no additional correction is required."
   ]
  },
  {
   "cell_type": "code",
   "execution_count": 32,
   "id": "ab2f86d0",
   "metadata": {},
   "outputs": [
    {
     "name": "stdout",
     "output_type": "stream",
     "text": [
      "ANOVA F-statistic=38.382, p-value=2.515e-20\n",
      "Multiple Comparison of Means - Tukey HSD, FWER=0.05 \n",
      "====================================================\n",
      "group1 group2 meandiff p-adj   lower   upper  reject\n",
      "----------------------------------------------------\n",
      "EarlyP EarlyT  -5.1059    0.0 -7.0571 -3.1547   True\n",
      "EarlyP  LateP  -2.4219 0.0636  -4.936  0.0921  False\n",
      "EarlyP  LateT   5.7558    0.0    2.61  8.9016   True\n",
      "EarlyT  LateP    2.684 0.0113  0.4488  4.9192   True\n",
      "EarlyT  LateT  10.8617    0.0  7.9339 13.7895   True\n",
      " LateP  LateT   8.1778    0.0  4.8483 11.5072   True\n",
      "----------------------------------------------------\n"
     ]
    }
   ],
   "source": [
    "# ANOVA\n",
    "data_groups = [df.loc[df['Treatment group'] == group, 'Time to recovery'].dropna() for group in groups]\n",
    "\n",
    "f_stat, p_value = f_oneway(*data_groups)\n",
    "print(f\"ANOVA F-statistic={f_stat:.3f}, p-value={p_value:.3e}\")\n",
    "\n",
    "if p_value < 0.05:\n",
    "    tukey = pairwise_tukeyhsd(endog=df['Time to recovery'].dropna(),\n",
    "                              groups=df.loc[df['Time to recovery'].notna(), 'Treatment group'],\n",
    "                              alpha=0.05)\n",
    "    print(tukey.summary())"
   ]
  },
  {
   "cell_type": "markdown",
   "id": "af363c18",
   "metadata": {},
   "source": [
    "As expected, no significant differences were observed between the two placebo groups. In addition:\n",
    "\n",
    "- EarlyT vs EarlyP showed significant differences, with the EarlyT mean being lower, indicating that patients who received the treatment early recovered faster.\n",
    "\n",
    "- LateT vs LateP also showed significant differences; in this case, the LateT mean was higher, suggesting that patients who received the treatment later recovered more slowly."
   ]
  },
  {
   "cell_type": "markdown",
   "id": "8a4d987b",
   "metadata": {},
   "source": [
    "### Differences across groups for survival – Chi-square test\n",
    "\n",
    "We next examine **whether the different treatment groups differ in survival outcome (primary outcome)**. \n",
    "\n",
    "To perform this analysis, we first construct a contingency table of survival counts by treatment group and then apply a **Chi-square test**. If the test is significant, post-hoc pairwise comparisons are performed with a Bonferroni correction to identify which groups differ while controlling for multiple comparisons."
   ]
  },
  {
   "cell_type": "code",
   "execution_count": 33,
   "id": "db5cf756",
   "metadata": {},
   "outputs": [
    {
     "name": "stdout",
     "output_type": "stream",
     "text": [
      "Pairwise comparisons (with Bonferroni correction):\n",
      "EarlyT vs LateP: p=6.761e-18 → significant\n",
      "EarlyT vs EarlyP: p=3.809e-11 → significant\n",
      "EarlyT vs LateT: p=8.947e-28 → significant\n",
      "LateP vs EarlyP: p=3.657e-02 → not significant\n",
      "LateP vs LateT: p=7.774e-03 → significant\n",
      "EarlyP vs LateT: p=1.678e-06 → significant\n"
     ]
    }
   ],
   "source": [
    "import itertools\n",
    "from scipy.stats import chi2_contingency, fisher_exact\n",
    "\n",
    "groups = df['Treatment group'].unique()\n",
    "comparisons = list(itertools.combinations(groups, 2))\n",
    "\n",
    "print(\"Pairwise comparisons (with Bonferroni correction):\")\n",
    "alpha = 0.05\n",
    "bonferroni_alpha = alpha / len(comparisons)\n",
    "\n",
    "for g1, g2 in comparisons:\n",
    "    table = pd.crosstab(df[df['Treatment group'].isin([g1,g2])]['Treatment group'],\n",
    "                        df[df['Treatment group'].isin([g1,g2])]['Week 8 outcome'])\n",
    "    chi2, p, _, _ = chi2_contingency(table)\n",
    "    #print(table)\n",
    "    significance = \"significant\" if p < bonferroni_alpha else \"not significant\"\n",
    "    print(f\"{g1} vs {g2}: p={p:.3e} → {significance}\")\n"
   ]
  },
  {
   "cell_type": "code",
   "execution_count": 34,
   "id": "6026a3c9",
   "metadata": {},
   "outputs": [
    {
     "data": {
      "image/png": "[encoded data removed]",
      "text/plain": [
       "<Figure size 1000x600 with 1 Axes>"
      ]
     },
     "metadata": {},
     "output_type": "display_data"
    }
   ],
   "source": [
    "order = [\"EarlyP\",  \"EarlyT\",\"LateP\", \"LateT\"]\n",
    "\n",
    "plt.figure(figsize=(10,6))\n",
    "sns.countplot(\n",
    "    x='Treatment group',\n",
    "    hue='Week 8 outcome',\n",
    "    order=order,\n",
    "    data=df,\n",
    "    palette=['#aec7e8', '#1f77b4']  # maps hue levels to colors\n",
    ")\n",
    "plt.title(\"Survival at Week 8 by Treatment Group\")\n",
    "plt.xlabel(\"Treatment Group\")\n",
    "plt.ylabel(\"Number of Patients\")\n",
    "plt.legend(title=\"Outcome\", labels=[\"Death\", \"Survived\"])\n",
    "plt.show()"
   ]
  },
  {
   "cell_type": "markdown",
   "id": "e7e45728",
   "metadata": {},
   "source": [
    "As expected, no significant differences were observed between the placebo groups. However, significant differences were detected in the other pairwise comparisons, and these remained significant after applying a Bonferroni correction for multiple testing."
   ]
  },
  {
   "cell_type": "markdown",
   "id": "6dcd1d97",
   "metadata": {},
   "source": [
    "# 5. Conclusions\n",
    "\n",
    "In this analysis of a simulated clinical trial, we performed reproducible statistical analyses to evaluate the efficacy of the treatment. Based on the results, we conclude the following:\n",
    "\n",
    "- **Early treatment is significantly effective against the ALIEN-1 virus.** Patients receiving early treatment show reduced mortality (Chi-square test), increased survival probability (Kaplan–Meier/log-rank), and shorter recovery times (ANOVA/Tukey). Preliminary data also suggest milder symptoms at Week 8 compared to untreated patients.\n",
    "\n",
    "- **Late treatment is not recommended.** Patients treated later exhibit higher mortality, decreased survival probability, and longer recovery times, indicating that delayed administration may be detrimental.\n",
    "\n",
    "- Some unexpected benefits may occur when a patient progresses through the full infection process without early intervention. Further studies would be needed to clarify these effects.\n",
    "\n",
    "These findings address the primary and selected secondary endpoints of the study, demonstrating the timing-dependent efficacy of the treatment. While this dataset is simulated and illustrative, the analyses show proper application of statistical methods and highlight how early intervention can impact clinical outcomes."
   ]
  }
 ],
 "metadata": {
  "kernelspec": {
   "display_name": "Python 3 (ipykernel)",
   "language": "python",
   "name": "python3"
  },
  "language_info": {
   "codemirror_mode": {
    "name": "ipython",
    "version": 3
   },
   "file_extension": ".py",
   "mimetype": "text/x-python",
   "name": "python",
   "nbconvert_exporter": "python",
   "pygments_lexer": "ipython3",
   "version": "3.9.12"
  }
 },
 "nbformat": 4,
 "nbformat_minor": 5
}
